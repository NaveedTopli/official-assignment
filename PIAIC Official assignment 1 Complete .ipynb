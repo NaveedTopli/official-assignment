{
 "cells": [
  {
   "cell_type": "markdown",
   "metadata": {},
   "source": [
    "## 1. Calculate Area of a Circle"
   ]
  },
  {
   "cell_type": "markdown",
   "metadata": {},
   "source": [
    "#### Write a Python program which accepts the radius of a circle from the user and compute the area.\n",
    "###### Program Console Sample Output 1:\n",
    "###### Input Radius: 0.5\n",
    "###### Area of Circle with radius 0.5 is 0.7853981634"
   ]
  },
  {
   "cell_type": "code",
   "execution_count": 3,
   "metadata": {},
   "outputs": [
    {
     "name": "stdout",
     "output_type": "stream",
     "text": [
      "Enter Radius of a Circle: 3\n",
      "28.274333882310003\n"
     ]
    }
   ],
   "source": [
    "user_radius = float(input(\"Enter Radius of a Circle: \"))\n",
    "pi_stdVal = 3.14159265359\n",
    "calc_area = pi_stdVal * user_radius * user_radius\n",
    "print(\"Area of Circle with radius\",user_radius,\"is\",calc_area)"
   ]
  },
  {
   "cell_type": "code",
   "execution_count": 11,
   "metadata": {},
   "outputs": [
    {
     "name": "stdout",
     "output_type": "stream",
     "text": [
      "Enter Radius of a Circle: 2.1\n",
      "Area of Circle with radius 2.1 is 13.854423602331902\n"
     ]
    }
   ],
   "source": [
    "user_radius = float(input(\"Enter Radius of a Circle: \"))\n",
    "pi_stdVal = 3.14159265359\n",
    "calc_area = pi_stdVal * user_radius * user_radius\n",
    "print(\"Area of Circle with radius\",user_radius,\"is\",calc_area)"
   ]
  },
  {
   "cell_type": "code",
   "execution_count": null,
   "metadata": {},
   "outputs": [],
   "source": []
  },
  {
   "cell_type": "markdown",
   "metadata": {},
   "source": [
    "## 2. Check Number either positive, negative or zero"
   ]
  },
  {
   "cell_type": "markdown",
   "metadata": {},
   "source": [
    "#### Write a Python program to check if a number is positive, negative or zero\n",
    "###### Program Console Sample Output 1:\n",
    "###### Enter Number: -1\n",
    "##### Negative Number Entered\n",
    "###### Program Console Sample Output 2:\n",
    "##### Integer: 3\n",
    "##### Positive Number Entered\n",
    "###### Program Console Sample Output 3:\n",
    "##### Integer: 0\n",
    "###### Zero Entered"
   ]
  },
  {
   "cell_type": "code",
   "execution_count": 13,
   "metadata": {},
   "outputs": [
    {
     "name": "stdout",
     "output_type": "stream",
     "text": [
      "Enter a number : 50\n",
      "Positive Number Entered\n"
     ]
    }
   ],
   "source": [
    "user_inputnumber= int(input(\"Enter a number : \" ))\n",
    "if user_inputnumber>0:\n",
    "    print(\"Positive Number Entered\" )\n",
    "elif user_inputnumber == 0 :\n",
    "    print(\"Zero Entered\")\n",
    "else :\n",
    "    print(\"Negative Number Entered\")\n"
   ]
  },
  {
   "cell_type": "code",
   "execution_count": 14,
   "metadata": {},
   "outputs": [
    {
     "name": "stdout",
     "output_type": "stream",
     "text": [
      "Enter a number : -32\n",
      "Negative Number Entered\n"
     ]
    }
   ],
   "source": [
    "user_inputnumber= int(input(\"Enter a number : \" ))\n",
    "if user_inputnumber>0:\n",
    "    print(\"Positive Number Entered\" )\n",
    "elif user_inputnumber == 0 :\n",
    "    print(\"Zero Entered\")\n",
    "else :\n",
    "    print(\"Negative Number Entered\")"
   ]
  },
  {
   "cell_type": "code",
   "execution_count": 15,
   "metadata": {},
   "outputs": [
    {
     "name": "stdout",
     "output_type": "stream",
     "text": [
      "Enter a number : 0\n",
      "Zero Entered\n"
     ]
    }
   ],
   "source": [
    "user_inputnumber= int(input(\"Enter a number : \" ))\n",
    "if user_inputnumber>0:\n",
    "    print(\"Positive Number Entered\" )\n",
    "elif user_inputnumber == 0 :\n",
    "    print(\"Zero Entered\")\n",
    "else :\n",
    "    print(\"Negative Number Entered\")"
   ]
  },
  {
   "cell_type": "code",
   "execution_count": null,
   "metadata": {},
   "outputs": [],
   "source": []
  },
  {
   "cell_type": "markdown",
   "metadata": {},
   "source": [
    "## 3. Divisibility Check of two numbers"
   ]
  },
  {
   "cell_type": "markdown",
   "metadata": {},
   "source": [
    "#### Write a Python program to check whether a number is completely divisible by another number. Accept two integer values form the user\n",
    "##### Program Console Sample Output 1:\n",
    "###### Enter numerator: 4\n",
    "###### Enter Denominator: 2\n",
    "##### Number 4 is Completely divisible by 2\n",
    "###### Program Console Sample Output 2:\n",
    "##### Enter numerator: 7\n",
    "\n",
    "##### Enter Denominator: 4\n",
    "###### Number 7 is not Completely divisible by 4"
   ]
  },
  {
   "cell_type": "code",
   "execution_count": 19,
   "metadata": {},
   "outputs": [
    {
     "name": "stdout",
     "output_type": "stream",
     "text": [
      "Enter a numerator: 8\n",
      "Enter a Denominator: 2\n",
      "Number 8 is completely divisible by 2 \n"
     ]
    }
   ],
   "source": [
    "user_inputnumber1= int(input('Enter a numerator: '))\n",
    "user_inputnumber2 =int(input('Enter a Denominator: '))\n",
    "if user_inputnumber1%user_inputnumber2== 0:\n",
    "    print('Number %i is completely divisible by %i '%(user_inputnumber1,user_inputnumber2))\n",
    "else :\n",
    "    print('Number %i is not completely divisible by %i '%(user_inputnumber1,user_inputnumber2))\n"
   ]
  },
  {
   "cell_type": "code",
   "execution_count": 20,
   "metadata": {},
   "outputs": [
    {
     "name": "stdout",
     "output_type": "stream",
     "text": [
      "Enter a numerator: 8\n",
      "Enter a Denominator: 3\n",
      "Number 8 is not completely divisible by 3 \n"
     ]
    }
   ],
   "source": [
    "user_inputnumber1= int(input('Enter a numerator: '))\n",
    "user_inputnumber2 =int(input('Enter a Denominator: '))\n",
    "if user_inputnumber1%user_inputnumber2== 0:\n",
    "    print('Number %i is completely divisible by %i '%(user_inputnumber1,user_inputnumber2))\n",
    "else :\n",
    "    print('Number %i is not completely divisible by %i '%(user_inputnumber1,user_inputnumber2))\n"
   ]
  },
  {
   "cell_type": "code",
   "execution_count": null,
   "metadata": {},
   "outputs": [],
   "source": []
  },
  {
   "cell_type": "code",
   "execution_count": null,
   "metadata": {},
   "outputs": [],
   "source": []
  },
  {
   "cell_type": "code",
   "execution_count": null,
   "metadata": {},
   "outputs": [],
   "source": []
  },
  {
   "cell_type": "code",
   "execution_count": null,
   "metadata": {},
   "outputs": [],
   "source": []
  },
  {
   "cell_type": "markdown",
   "metadata": {},
   "source": [
    "## 4. Calculate Volume of a sphere"
   ]
  },
  {
   "cell_type": "markdown",
   "metadata": {},
   "source": [
    "##### Write a Python program to get the volume of a sphere, please take the radius as input from user"
   ]
  },
  {
   "cell_type": "markdown",
   "metadata": {},
   "source": [
    "##### Program Console Output:\n",
    "##### Enter Radius of Sphere: 1\n",
    "###### Volume of the Sphere with Radius 1 is 4.18"
   ]
  },
  {
   "cell_type": "code",
   "execution_count": 24,
   "metadata": {},
   "outputs": [
    {
     "name": "stdout",
     "output_type": "stream",
     "text": [
      "Enter Radius of a Circle: 1.5\n",
      "Volume of the Sphere with Radius 1.5 is 14.137166941155\n"
     ]
    }
   ],
   "source": [
    "user_radius = float(input(\"Enter Radius of a Circle: \"))\n",
    "pi_stdVal = 3.14159265359\n",
    "result_Volume= (4/3*pi_stdVal* user_radius**3)\n",
    "print(\"Volume of the Sphere with Radius\",user_radius,\"is\",result_Volume)\n"
   ]
  },
  {
   "cell_type": "code",
   "execution_count": 25,
   "metadata": {},
   "outputs": [
    {
     "name": "stdout",
     "output_type": "stream",
     "text": [
      "Enter Radius of a Circle: 2.6\n",
      "Volume of the Sphere with Radius 2.6 is 73.62217663933046\n"
     ]
    }
   ],
   "source": [
    "user_radius = float(input(\"Enter Radius of a Circle: \"))\n",
    "pi_stdVal = 3.14159265359\n",
    "result_Volume= (4/3*pi_stdVal* user_radius**3)\n",
    "print(\"Volume of the Sphere with Radius\",user_radius,\"is\",result_Volume)"
   ]
  },
  {
   "cell_type": "code",
   "execution_count": null,
   "metadata": {},
   "outputs": [],
   "source": []
  },
  {
   "cell_type": "code",
   "execution_count": null,
   "metadata": {},
   "outputs": [],
   "source": []
  },
  {
   "cell_type": "code",
   "execution_count": null,
   "metadata": {},
   "outputs": [],
   "source": []
  },
  {
   "cell_type": "markdown",
   "metadata": {},
   "source": [
    "## 5. Copy string n times\n",
    "#### Write a Python program to get a string which is n (non-negative integer) copies of a given string.\n",
    "##### Program Console Output:\n",
    "##### Enter String: Hi\n",
    "###### How many copies of String you need: 4\n",
    "###### 4 Copies of Hi are HiHiHiHi"
   ]
  },
  {
   "cell_type": "code",
   "execution_count": 30,
   "metadata": {},
   "outputs": [
    {
     "name": "stdout",
     "output_type": "stream",
     "text": [
      "Enter String: Nadeem\n",
      "How many copies of String you need: 5\n",
      "5 Copies of   Nadeem are  NadeemNadeemNadeemNadeemNadeem\n"
     ]
    }
   ],
   "source": [
    "user_inputname=str(input(\"Enter String: \"))\n",
    "user_reqnumber=int(input(\"How many copies of String you need: \"))\n",
    "result_name=user_inputname * user_reqnumber\n",
    "print(user_reqnumber,\"Copies of  \",user_inputname,\"are \",result_name)\n"
   ]
  },
  {
   "cell_type": "code",
   "execution_count": 31,
   "metadata": {},
   "outputs": [
    {
     "name": "stdout",
     "output_type": "stream",
     "text": [
      "Enter String: Assalam u Aliyekum\n",
      "How many copies of String you need: 3\n",
      "3 Copies of   Assalam u Aliyekum are  Assalam u AliyekumAssalam u AliyekumAssalam u Aliyekum\n"
     ]
    }
   ],
   "source": [
    "user_inputname=str(input(\"Enter String: \"))\n",
    "user_reqnumber=int(input(\"How many copies of String you need: \"))\n",
    "result_name=user_inputname * user_reqnumber\n",
    "print(user_reqnumber,\"Copies of  \",user_inputname,\"are \",result_name)"
   ]
  },
  {
   "cell_type": "code",
   "execution_count": null,
   "metadata": {},
   "outputs": [],
   "source": []
  },
  {
   "cell_type": "code",
   "execution_count": null,
   "metadata": {},
   "outputs": [],
   "source": []
  },
  {
   "cell_type": "code",
   "execution_count": null,
   "metadata": {},
   "outputs": [],
   "source": []
  },
  {
   "cell_type": "markdown",
   "metadata": {},
   "source": [
    "## 6. Check if number is Even or Odd\n",
    "### Write a Python program to find whether a given number (accept from the user) is even or odd, print out an appropriate message to the user\n",
    "#### Program Console Output 1:\n",
    "##### Enter Number: 4\n",
    "###### 4 is Even\n",
    "#### Program Console Output 2:\n",
    "##### Enter Number: 9\n",
    "###### 9 is Odd"
   ]
  },
  {
   "cell_type": "code",
   "execution_count": 35,
   "metadata": {},
   "outputs": [
    {
     "name": "stdout",
     "output_type": "stream",
     "text": [
      "Enter Number: 5\n",
      "5 is Odd\n"
     ]
    }
   ],
   "source": [
    "user_input = int(input(\"Enter Number: \"))\n",
    "result_user = user_input % 2\n",
    "if result_user > 0:\n",
    "    print(user_input,\"is Odd\")\n",
    "else:\n",
    "    print(user_input,\"is Even\")\n"
   ]
  },
  {
   "cell_type": "code",
   "execution_count": 36,
   "metadata": {},
   "outputs": [
    {
     "name": "stdout",
     "output_type": "stream",
     "text": [
      "Enter Number: 8\n",
      "8  is Even\n"
     ]
    }
   ],
   "source": [
    "user_input = int(input(\"Enter Number: \"))\n",
    "result_user = user_input % 2\n",
    "if result_user > 0:\n",
    "    print(user_input,\" is Odd\")\n",
    "else:\n",
    "    print(user_input,\" is Even\")"
   ]
  },
  {
   "cell_type": "code",
   "execution_count": null,
   "metadata": {},
   "outputs": [],
   "source": []
  },
  {
   "cell_type": "code",
   "execution_count": null,
   "metadata": {},
   "outputs": [],
   "source": []
  },
  {
   "cell_type": "code",
   "execution_count": null,
   "metadata": {},
   "outputs": [],
   "source": []
  },
  {
   "cell_type": "markdown",
   "metadata": {},
   "source": [
    "## 7. Vowel Tester\n",
    "### Write a Python program to test whether a passed letter is a vowel or not\n",
    "#### Program Console Output 1:\n",
    "##### Enter a character: A\n",
    "###### Letter A is Vowel\n",
    "#### Program Console Output 2:\n",
    "##### Enter a character: e\n",
    "###### Letter e is Vowel\n",
    "#### Program Console Output 2:\n",
    "##### Enter a character: N\n",
    "###### Letter N is not Vowel"
   ]
  },
  {
   "cell_type": "code",
   "execution_count": 45,
   "metadata": {},
   "outputs": [
    {
     "name": "stdout",
     "output_type": "stream",
     "text": [
      "Enter a character :b\n",
      "Letter B is not Vowel\n"
     ]
    }
   ],
   "source": [
    "user_input= str(input(\"Enter a character :\"))\n",
    "user_input = user_input.upper()\n",
    "if(user_input==\"A\" or user_input==\"E\" or user_input==\"I\" or user_input==\"O\"or user_input==\"U\"):\n",
    "    print(\"Letter\",user_input,\"is Vowel\")\n",
    "else:\n",
    "    print(\"Letter\",user_input,\"is not Vowel\")\n"
   ]
  },
  {
   "cell_type": "code",
   "execution_count": 46,
   "metadata": {},
   "outputs": [
    {
     "name": "stdout",
     "output_type": "stream",
     "text": [
      "Enter a character :A\n",
      "Letter a is Vowel\n"
     ]
    }
   ],
   "source": [
    "user_input= str(input(\"Enter a character :\"))\n",
    "user_input = user_input.lower()\n",
    "if(user_input==\"a\" or user_input==\"e\" or user_input==\"i\" or user_input==\"o\"or user_input==\"u\"):\n",
    "    print(\"Letter\",user_input,\"is Vowel\")\n",
    "else:\n",
    "    print(\"Letter\",user_input,\"is not Vowel\")"
   ]
  },
  {
   "cell_type": "code",
   "execution_count": 48,
   "metadata": {},
   "outputs": [
    {
     "name": "stdout",
     "output_type": "stream",
     "text": [
      "Enter a character :A\n",
      "Letter A is Vowel\n"
     ]
    }
   ],
   "source": [
    "user_input= str(input(\"Enter a character :\"))\n",
    "if(user_input==\"A\" or user_input==\"E\" or user_input==\"I\" or user_input==\"O\"or user_input==\"U\" or user_input==\"a\" or user_input==\"e\" or user_input==\"i\" or user_input==\"o\"or user_input==\"u\"):\n",
    "    print(\"Letter\",user_input,\"is Vowel\")\n",
    "else:\n",
    "    print(\"Letter\",user_input,\"is not Vowel\")"
   ]
  },
  {
   "cell_type": "code",
   "execution_count": 49,
   "metadata": {},
   "outputs": [
    {
     "name": "stdout",
     "output_type": "stream",
     "text": [
      "Enter a character :e\n",
      "Letter e is Vowel\n"
     ]
    }
   ],
   "source": [
    "user_input= str(input(\"Enter a character :\"))\n",
    "if(user_input==\"A\" or user_input==\"E\" or user_input==\"I\" or user_input==\"O\"or user_input==\"U\" or user_input==\"a\" or user_input==\"e\" or user_input==\"i\" or user_input==\"o\"or user_input==\"u\"):\n",
    "    print(\"Letter\",user_input,\"is Vowel\")\n",
    "else:\n",
    "    print(\"Letter\",user_input,\"is not Vowel\")"
   ]
  },
  {
   "cell_type": "code",
   "execution_count": 50,
   "metadata": {},
   "outputs": [
    {
     "name": "stdout",
     "output_type": "stream",
     "text": [
      "Enter a character :N\n",
      "Letter N is not Vowel\n"
     ]
    }
   ],
   "source": [
    "user_input= str(input(\"Enter a character :\"))\n",
    "if(user_input==\"A\" or user_input==\"E\" or user_input==\"I\" or user_input==\"O\"or user_input==\"U\" or user_input==\"a\" or user_input==\"e\" or user_input==\"i\" or user_input==\"o\"or user_input==\"u\"):\n",
    "    print(\"Letter\",user_input,\"is Vowel\")\n",
    "else:\n",
    "    print(\"Letter\",user_input,\"is not Vowel\")"
   ]
  },
  {
   "cell_type": "markdown",
   "metadata": {},
   "source": [
    "## 8. Triangle area\n",
    "### Write a Python program that will accept the base and height of a triangle and compute the area\n",
    "###### Reference:\n",
    "https://www.mathgoodies.com/lessons/vol1/area_triangle"
   ]
  },
  {
   "cell_type": "code",
   "execution_count": 52,
   "metadata": {},
   "outputs": [
    {
     "name": "stdout",
     "output_type": "stream",
     "text": [
      "Enter the Base of Triangle : 5\n",
      "Enter the Height of Triangle : 10\n",
      "Area of Triangle is  25.0\n"
     ]
    }
   ],
   "source": [
    "user_base = int(input(\"Enter the Base of Triangle : \"))\n",
    "user_height = int(input(\"Enter the Height of Triangle : \"))\n",
    "result_area = user_base * user_height / 2\n",
    "print(\"Area of Triangle is \",result_area)\n"
   ]
  },
  {
   "cell_type": "code",
   "execution_count": 53,
   "metadata": {},
   "outputs": [
    {
     "name": "stdout",
     "output_type": "stream",
     "text": [
      "Enter the Base of Triangle : 25\n",
      "Enter the Height of Triangle : 10\n",
      "Area of Triangle is  125.0\n"
     ]
    }
   ],
   "source": [
    "user_base = int(input(\"Enter the Base of Triangle : \"))\n",
    "user_height = int(input(\"Enter the Height of Triangle : \"))\n",
    "result_area = user_base * user_height / 2\n",
    "print(\"Area of Triangle is \",result_area)"
   ]
  },
  {
   "cell_type": "code",
   "execution_count": null,
   "metadata": {},
   "outputs": [],
   "source": []
  },
  {
   "cell_type": "code",
   "execution_count": null,
   "metadata": {},
   "outputs": [],
   "source": []
  },
  {
   "cell_type": "markdown",
   "metadata": {},
   "source": [
    "## 9. Calculate Interest\n",
    "### Write a Python program to compute the future value of a specified principal amount, rate of interest, and a number of years\n",
    "#### Program Console Sample 1:\n",
    "##### Please enter principal amount: 10000\n",
    "###### Please Enter Rate of interest in %: 0.1\n",
    "###### Enter number of years for investment: 5\n",
    "###### After 5 years your principal amount 10000 over an interest rate of 0.1 % will be 16105.1"
   ]
  },
  {
   "cell_type": "code",
   "execution_count": 65,
   "metadata": {},
   "outputs": [
    {
     "name": "stdout",
     "output_type": "stream",
     "text": [
      "Please enter principal amount: 10000\n",
      "Please Enter Rate of interest in %: 0.1\n",
      "Enter number of years for investment: 5\n",
      "After 5 years your principal amount 10000 over an interest rate of 0.1 % will be 16105.1\n"
     ]
    }
   ],
   "source": [
    "user_princpleAmt = int(input(\"Please enter principal amount: \"))\n",
    "user_princpleAmt1 = user_princpleAmt\n",
    "user_interestRate = float(input(\"Please Enter Rate of interest in %: \"))\n",
    "user_noofyear= int(input(\"Enter number of years for investment: \"))\n",
    "for i in range(user_noofyear):\n",
    "    user_princpleAmt= round(user_princpleAmt* (1+user_interestRate),2)\n",
    "print(\"After\",user_noofyear,\"years your principal amount\",user_princpleAmt1,\"over an interest rate of\",user_interestRate,\"% will be\",user_princpleAmt)\n"
   ]
  },
  {
   "cell_type": "code",
   "execution_count": 66,
   "metadata": {},
   "outputs": [
    {
     "name": "stdout",
     "output_type": "stream",
     "text": [
      "Please enter principal amount: 25000\n",
      "Please Enter Rate of interest in %: 0.2\n",
      "Enter number of years for investment: 10\n",
      "After 10 years your principal amount 25000 over an interest rate of 0.2 % will be 154793.4\n"
     ]
    }
   ],
   "source": [
    "user_princpleAmt = int(input(\"Please enter principal amount: \"))\n",
    "user_princpleAmt1 = user_princpleAmt\n",
    "user_interestRate = float(input(\"Please Enter Rate of interest in %: \"))\n",
    "user_noofyear= int(input(\"Enter number of years for investment: \"))\n",
    "for i in range(user_noofyear):\n",
    "    user_princpleAmt= round(user_princpleAmt* (1+user_interestRate),2)\n",
    "print(\"After\",user_noofyear,\"years your principal amount\",user_princpleAmt1,\"over an interest rate of\",user_interestRate,\"% will be\",user_princpleAmt)\n"
   ]
  },
  {
   "cell_type": "code",
   "execution_count": null,
   "metadata": {},
   "outputs": [],
   "source": []
  },
  {
   "cell_type": "code",
   "execution_count": null,
   "metadata": {},
   "outputs": [],
   "source": []
  },
  {
   "cell_type": "code",
   "execution_count": null,
   "metadata": {},
   "outputs": [],
   "source": []
  },
  {
   "cell_type": "code",
   "execution_count": null,
   "metadata": {},
   "outputs": [],
   "source": []
  },
  {
   "cell_type": "markdown",
   "metadata": {},
   "source": [
    "## 10. Euclidean distance\n",
    "### write a Python program to compute the distance between the points (x1, y1) and (x2, y2).\n",
    "#### Program Console Sample 1:\n",
    "###### Enter Co-ordinate for x1: 2\n",
    "###### Enter Co-ordinate for x2: 4\n",
    "###### Enter Co-ordinate for y1: 4\n",
    "###### Enter Co-ordinate for y2: 4\n",
    "###### Distance between points (2, 4) and (4, 4) is 2"
   ]
  },
  {
   "cell_type": "markdown",
   "metadata": {},
   "source": [
    "###### Reference:\n",
    "https://en.wikipedia.org/wiki/Euclidean_distance"
   ]
  },
  {
   "cell_type": "code",
   "execution_count": 70,
   "metadata": {},
   "outputs": [
    {
     "name": "stdout",
     "output_type": "stream",
     "text": [
      "Enter Co-ordinate for x1: 2\n",
      "Enter Co-ordinate for x2: 4\n",
      "Enter Co-ordinate for y1: 4\n",
      "Enter Co-ordinate for y2: 4\n",
      "Distance between points ( 2 , 4 ) and ( 4 , 4 ) is 2\n"
     ]
    }
   ],
   "source": [
    "import math\n",
    "x1=int(input(\"Enter Co-ordinate for x1: \"))\n",
    "x2=int(input(\"Enter Co-ordinate for x2: \"))\n",
    "y1=int(input(\"Enter Co-ordinate for y1: \"))\n",
    "y2=int(input(\"Enter Co-ordinate for y2: \"))\n",
    "std_formula = int(math.sqrt( ((x1-y1)**2)+((x2-y2)**2)))\n",
    "print(\"Distance between points (\",x1,\",\",y1,\") and (\",x2,\",\",y2,\") is\",std_formula)"
   ]
  },
  {
   "cell_type": "code",
   "execution_count": 71,
   "metadata": {},
   "outputs": [
    {
     "name": "stdout",
     "output_type": "stream",
     "text": [
      "Enter Co-ordinate for x1: 4\n",
      "Enter Co-ordinate for x2: 4\n",
      "Enter Co-ordinate for y1: 4\n",
      "Enter Co-ordinate for y2: 2\n",
      "Distance between points ( 4  ,  4 ) and ( 4  ,  2 ) is : 2.0\n"
     ]
    }
   ],
   "source": [
    "import math\n",
    "x1=int(input(\"Enter Co-ordinate for x1: \"))\n",
    "x2=int(input(\"Enter Co-ordinate for x2: \"))\n",
    "y1=int(input(\"Enter Co-ordinate for y1: \"))\n",
    "y2=int(input(\"Enter Co-ordinate for y2: \"))\n",
    "std_formula = int(math.sqrt( ((x1-y1)**2)+((x2-y2)**2)))\n",
    "print(\"Distance between points (\",x1,\" , \",y1,\") and (\",x2,\" , \",y2,\") is :\",std_formula)"
   ]
  },
  {
   "cell_type": "code",
   "execution_count": null,
   "metadata": {},
   "outputs": [],
   "source": []
  },
  {
   "cell_type": "code",
   "execution_count": null,
   "metadata": {},
   "outputs": [],
   "source": []
  },
  {
   "cell_type": "markdown",
   "metadata": {},
   "source": [
    "## 11. Feet to Centimeter Converter\n",
    "### Write a Python program to convert height in feet to centimetres.\n",
    "##### Program Console Sample 1:\n",
    "###### Enter Height in Feet: 5\n",
    "###### There are 152.4 Cm in 5 ft\n",
    "###### Reference:\n",
    "https://www.rapidtables.com/convert/length/feet-to-cm.html"
   ]
  },
  {
   "cell_type": "code",
   "execution_count": 74,
   "metadata": {},
   "outputs": [
    {
     "name": "stdout",
     "output_type": "stream",
     "text": [
      "Enter Height in Feet:5.6\n",
      "There are 170.688 Cm in 5.6 ft\n"
     ]
    }
   ],
   "source": [
    "user_inputheight = float(input(\"Enter Height in Feet:\"))\n",
    "std_formula_cm = 30.48\n",
    "result_cm = std_formula_cm * user_inputheight\n",
    "print(\"There are\",result_cm,\"Cm in\",user_inputheight,\"ft\")\n"
   ]
  },
  {
   "cell_type": "code",
   "execution_count": null,
   "metadata": {},
   "outputs": [],
   "source": []
  },
  {
   "cell_type": "code",
   "execution_count": null,
   "metadata": {},
   "outputs": [],
   "source": []
  },
  {
   "cell_type": "code",
   "execution_count": null,
   "metadata": {},
   "outputs": [],
   "source": []
  },
  {
   "cell_type": "markdown",
   "metadata": {},
   "source": [
    "## 12. BMI Calculator\n",
    "### Write a Python program to calculate body mass index\n",
    "##### Program Console Sample 1:\n",
    "###### Enter Height in Cm: 180\n",
    "###### Enter Weight in Kg: 75\n",
    "###### Your BMI is 23.15"
   ]
  },
  {
   "cell_type": "code",
   "execution_count": 80,
   "metadata": {},
   "outputs": [
    {
     "name": "stdout",
     "output_type": "stream",
     "text": [
      "Enter Height in Cm: 170.688\n",
      "Enter Weight in Kg: 84\n",
      "Your BMI is:  28.83\n"
     ]
    }
   ],
   "source": [
    "user_height = float(input(\"Enter Height in Cm: \"))\n",
    "result_height = user_height / 100\n",
    "user_weight = float(input(\"Enter Weight in Kg: \"))\n",
    "result_height = float(user_weight / (result_height*result_height))\n",
    "print(\"Your BMI is: \",round(result_height,2))\n"
   ]
  },
  {
   "cell_type": "code",
   "execution_count": null,
   "metadata": {},
   "outputs": [],
   "source": []
  },
  {
   "cell_type": "code",
   "execution_count": null,
   "metadata": {},
   "outputs": [],
   "source": []
  },
  {
   "cell_type": "markdown",
   "metadata": {},
   "source": [
    "## 13. Sum of n Positive Integers\n",
    "### Write a python program to sum of the first n positive integers\n",
    "#### Program Console Sample 1:\n",
    "###### Enter value of n: 5\n",
    "###### Sum of n Positive integers till 5 is 15"
   ]
  },
  {
   "cell_type": "code",
   "execution_count": 81,
   "metadata": {},
   "outputs": [
    {
     "name": "stdout",
     "output_type": "stream",
     "text": [
      "Enter value of n 5\n",
      "Sum of n Positive integers till  5 is 15.0\n"
     ]
    }
   ],
   "source": [
    "user_inputnumber = int(input(\"Enter value of n \"))\n",
    "result_integer = (user_inputnumber * (user_inputnumber + 1)) / 2\n",
    "print(\"Sum of n Positive integers till \",user_inputnumber,\"is\",result_integer)\n"
   ]
  },
  {
   "cell_type": "code",
   "execution_count": 82,
   "metadata": {},
   "outputs": [
    {
     "name": "stdout",
     "output_type": "stream",
     "text": [
      "Enter value of n 15\n",
      "Sum of n Positive integers till  15 is 120.0\n"
     ]
    }
   ],
   "source": [
    "user_inputnumber = int(input(\"Enter value of n \"))\n",
    "result_integer = (user_inputnumber * (user_inputnumber + 1)) / 2\n",
    "print(\"Sum of n Positive integers till \",user_inputnumber,\"is\",result_integer)\n"
   ]
  },
  {
   "cell_type": "code",
   "execution_count": null,
   "metadata": {},
   "outputs": [],
   "source": []
  },
  {
   "cell_type": "markdown",
   "metadata": {},
   "source": [
    "## 14. Digits Sum of a Number\n",
    "### Write a Python program to calculate the sum of the digits in an integer\n",
    "#### Program Console Sample 1:\n",
    "##### Enter a number: 15\n",
    "###### Sum of 1 + 5 is 6\n",
    "#### Program Console Sample 2:\n",
    "##### Enter a number: 1234\n",
    "###### Sum of 1 + 2 + 3 + 4 is 10"
   ]
  },
  {
   "cell_type": "code",
   "execution_count": 89,
   "metadata": {},
   "outputs": [
    {
     "name": "stdout",
     "output_type": "stream",
     "text": [
      "Enter a number:1565\n",
      "Sum of digits is: 17\n"
     ]
    }
   ],
   "source": [
    "user_inputnumber = int(input(\"Enter a number:\"))\n",
    "result_total = 0\n",
    "while(user_inputnumber > 0):\n",
    "    result_digit =user_inputnumber % 10\n",
    "    result_total =result_total + result_digit\n",
    "    user_inputnumber = user_inputnumber // 10\n",
    "print(\"Sum of digits is:\",result_total)"
   ]
  },
  {
   "cell_type": "code",
   "execution_count": 90,
   "metadata": {},
   "outputs": [
    {
     "name": "stdout",
     "output_type": "stream",
     "text": [
      "Enter a number:15\n",
      "Sum of digits is: 6\n"
     ]
    }
   ],
   "source": [
    "user_inputnumber = int(input(\"Enter a number:\"))\n",
    "result_total = 0\n",
    "while(user_inputnumber > 0):\n",
    "    result_digit =user_inputnumber % 10\n",
    "    result_total =result_total + result_digit\n",
    "    user_inputnumber = user_inputnumber // 10\n",
    "print(\"Sum of digits is:\",result_total)"
   ]
  },
  {
   "cell_type": "code",
   "execution_count": 91,
   "metadata": {},
   "outputs": [
    {
     "name": "stdout",
     "output_type": "stream",
     "text": [
      "Enter a number:1234\n",
      "Sum of digits is: 10\n"
     ]
    }
   ],
   "source": [
    "user_inputnumber = int(input(\"Enter a number:\"))\n",
    "result_total = 0\n",
    "while(user_inputnumber > 0):\n",
    "    result_digit =user_inputnumber % 10\n",
    "    result_total =result_total + result_digit\n",
    "    user_inputnumber = user_inputnumber // 10\n",
    "print(\"Sum of digits is:\",result_total)"
   ]
  },
  {
   "cell_type": "code",
   "execution_count": null,
   "metadata": {},
   "outputs": [],
   "source": []
  },
  {
   "cell_type": "code",
   "execution_count": null,
   "metadata": {},
   "outputs": [],
   "source": []
  },
  {
   "cell_type": "code",
   "execution_count": null,
   "metadata": {},
   "outputs": [],
   "source": []
  },
  {
   "cell_type": "code",
   "execution_count": null,
   "metadata": {},
   "outputs": [],
   "source": []
  },
  {
   "cell_type": "code",
   "execution_count": null,
   "metadata": {},
   "outputs": [],
   "source": []
  }
 ],
 "metadata": {
  "kernelspec": {
   "display_name": "Python 3",
   "language": "python",
   "name": "python3"
  },
  "language_info": {
   "codemirror_mode": {
    "name": "ipython",
    "version": 3
   },
   "file_extension": ".py",
   "mimetype": "text/x-python",
   "name": "python",
   "nbconvert_exporter": "python",
   "pygments_lexer": "ipython3",
   "version": "3.7.3"
  }
 },
 "nbformat": 4,
 "nbformat_minor": 2
}
